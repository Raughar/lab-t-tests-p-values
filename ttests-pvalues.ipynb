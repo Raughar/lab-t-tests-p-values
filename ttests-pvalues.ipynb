{
 "cells": [
  {
   "cell_type": "markdown",
   "metadata": {},
   "source": [
    "### Case:\n",
    "In a packing plant, a machine packs cartons with jars. It is supposed that a new machine will pack faster on the average than the machine currently used. To test that hypothesis, the times it takes each machine to pack ten cartons are recorded. We will use the data from the .txt. We will also assume that there is sufficient evidence to conduct the t test, does the data provide sufficient evidence to show if one machine is better than the other."
   ]
  },
  {
   "cell_type": "markdown",
   "metadata": {},
   "source": [
    "### Hypothesis Testing:\n",
    "\n",
    "- Step 1: Define the hypothesis:\n",
    "\n",
    "Null Hypothesis (H0): \n",
    "μ(new) ≤ μ(old)(The new machine does not pack faster or is slower/equal to the old machine.)\n",
    "\n",
    "Alternative Hypothesis (H1): \n",
    "μ(new) > μ(old) (The new machine packs faster than the old machine.)\n",
    "\n",
    "- Step 2: Choosing the significance level:\n",
    "\n",
    "We will assume a significance level of α=0.05, for a one-sided test.\n",
    "\n",
    "- Step 3: Selecting the test statistic:\n",
    "\n",
    "Since we are comparing the means of two independent samples with equal variances, we will use a pooled two-sample t-test.\n",
    "\n",
    "- Step 4: Setting up the decision Rule:\n",
    "\n",
    "For a one-sided test at a significance level of 0.05, find the critical t-value with degrees of freedom equal to \n",
    "n(total)−2, where n(total) is the total number of observations.\n",
    "\n",
    "- Step 5: Calculate the test statistics:\n",
    "\n",
    "The formula will be: \n",
    "\n",
    "t= (x(new)-x(old))/√(psv/n(new))+(psv/n(old))\n",
    "\n",
    "psv = Pooled Sample Variance\n",
    "\n",
    "- Step 6: Making the decission:\n",
    "\n"
   ]
  },
  {
   "cell_type": "markdown",
   "metadata": {},
   "source": [
    "Now, we will apply all of that into Python:"
   ]
  },
  {
   "cell_type": "code",
   "execution_count": 13,
   "metadata": {},
   "outputs": [
    {
     "name": "stdout",
     "output_type": "stream",
     "text": [
      "Calculated t-statistic: nan\n",
      "Critical t-value: nan\n",
      "Fail to reject the null hypothesis. There is not sufficient evidence that the new machine packs faster.\n"
     ]
    },
    {
     "name": "stderr",
     "output_type": "stream",
     "text": [
      "c:\\Users\\Samu\\anaconda3\\Lib\\site-packages\\numpy\\core\\fromnumeric.py:3464: RuntimeWarning: Mean of empty slice.\n",
      "  return _methods._mean(a, axis=axis, dtype=dtype,\n",
      "c:\\Users\\Samu\\anaconda3\\Lib\\site-packages\\numpy\\core\\_methods.py:192: RuntimeWarning: invalid value encountered in scalar divide\n",
      "  ret = ret.dtype.type(ret / rcount)\n",
      "c:\\Users\\Samu\\anaconda3\\Lib\\site-packages\\numpy\\core\\_methods.py:269: RuntimeWarning: Degrees of freedom <= 0 for slice\n",
      "  ret = _var(a, axis=axis, dtype=dtype, out=out, ddof=ddof,\n",
      "c:\\Users\\Samu\\anaconda3\\Lib\\site-packages\\numpy\\core\\_methods.py:226: RuntimeWarning: invalid value encountered in divide\n",
      "  arrmean = um.true_divide(arrmean, div, out=arrmean,\n",
      "c:\\Users\\Samu\\anaconda3\\Lib\\site-packages\\numpy\\core\\_methods.py:261: RuntimeWarning: invalid value encountered in scalar divide\n",
      "  ret = ret.dtype.type(ret / rcount)\n"
     ]
    }
   ],
   "source": [
    "import numpy as np\n",
    "import pandas as pd\n",
    "from scipy.stats import t\n",
    "\n",
    "# Read data from the text file with specified encoding\n",
    "data = pd.read_csv('files_for_lab\\machine.txt', header=None, names=['New Machine', 'Old Machine'], delimiter='\\t', encoding='latin1')\n",
    "\n",
    "# Convert the data to numeric values\n",
    "data['New Machine'] = pd.to_numeric(data['New Machine'], errors='coerce')\n",
    "data['Old Machine'] = pd.to_numeric(data['Old Machine'], errors='coerce')\n",
    "\n",
    "# Drop any rows with missing values\n",
    "data = data.dropna()\n",
    "\n",
    "# Extract data into NumPy arrays\n",
    "new_machine_times = data['New Machine'].values\n",
    "old_machine_times = data['Old Machine'].values\n",
    "\n",
    "# Calculate sample statistics\n",
    "n_new = len(new_machine_times)\n",
    "n_old = len(old_machine_times)\n",
    "mean_new = np.mean(new_machine_times)\n",
    "mean_old = np.mean(old_machine_times)\n",
    "std_new = np.std(new_machine_times, ddof=1)\n",
    "std_old = np.std(old_machine_times, ddof=1)\n",
    "\n",
    "# Calculate pooled standard deviation\n",
    "pooled_std = np.sqrt(((n_new - 1) * std_new**2 + (n_old - 1) * std_old**2) / (n_new + n_old - 2))\n",
    "\n",
    "# Calculate the test statistic\n",
    "t_statistic = (mean_new - mean_old) / np.sqrt((pooled_std**2 / n_new) + (pooled_std**2 / n_old))\n",
    "\n",
    "# Degrees of freedom\n",
    "df = n_new + n_old - 2\n",
    "\n",
    "# Calculate critical t-value for a one-sided test\n",
    "alpha = 0.05\n",
    "critical_t_value = t.ppf(1 - alpha, df)\n",
    "\n",
    "# Print results\n",
    "print(\"Calculated t-statistic:\", t_statistic)\n",
    "print(\"Critical t-value:\", critical_t_value)\n",
    "\n",
    "# Compare t-statistic with critical t-value\n",
    "if t_statistic > critical_t_value:\n",
    "    print(\"Reject the null hypothesis. There is sufficient evidence that the new machine packs faster.\")\n",
    "else:\n",
    "    print(\"Fail to reject the null hypothesis. There is not sufficient evidence that the new machine packs faster.\")\n"
   ]
  },
  {
   "cell_type": "markdown",
   "metadata": {},
   "source": [
    "As using the machine.txt file directly gave me bad results, I will create the arrays manually and check if it works that way."
   ]
  },
  {
   "cell_type": "code",
   "execution_count": 14,
   "metadata": {},
   "outputs": [
    {
     "name": "stdout",
     "output_type": "stream",
     "text": [
      "Calculated t-statistic: -3.3972307061176026\n",
      "Critical t-value: 1.7340636066175354\n",
      "Fail to reject the null hypothesis. There is not sufficient evidence that the new machine packs faster.\n"
     ]
    }
   ],
   "source": [
    "import numpy as np\n",
    "from scipy.stats import t\n",
    "\n",
    "# Data\n",
    "new_machine_times = np.array([42.1, 41, 41.3, 41.8, 42.4, 42.8, 43.2, 42.3, 41.8, 42.7])\n",
    "old_machine_times = np.array([42.7, 43.6, 43.8, 43.3, 42.5, 43.5, 43.1, 41.7, 44, 44.1])\n",
    "\n",
    "# Calculate sample statistics\n",
    "n_new = len(new_machine_times)\n",
    "n_old = len(old_machine_times)\n",
    "mean_new = np.mean(new_machine_times)\n",
    "mean_old = np.mean(old_machine_times)\n",
    "std_new = np.std(new_machine_times, ddof=1)\n",
    "std_old = np.std(old_machine_times, ddof=1)\n",
    "\n",
    "# Calculate pooled standard deviation\n",
    "pooled_std = np.sqrt(((n_new - 1) * std_new**2 + (n_old - 1) * std_old**2) / (n_new + n_old - 2))\n",
    "\n",
    "# Calculate the test statistic\n",
    "t_statistic = (mean_new - mean_old) / np.sqrt((pooled_std**2 / n_new) + (pooled_std**2 / n_old))\n",
    "\n",
    "# Degrees of freedom\n",
    "df = n_new + n_old - 2\n",
    "\n",
    "# Calculate critical t-value for a one-sided test\n",
    "alpha = 0.05\n",
    "critical_t_value = t.ppf(1 - alpha, df)\n",
    "\n",
    "# Print results\n",
    "print(\"Calculated t-statistic:\", t_statistic)\n",
    "print(\"Critical t-value:\", critical_t_value)\n",
    "\n",
    "# Compare t-statistic with critical t-value\n",
    "if t_statistic > critical_t_value:\n",
    "    print(\"Reject the null hypothesis. There is sufficient evidence that the new machine packs faster.\")\n",
    "else:\n",
    "    print(\"Fail to reject the null hypothesis. There is not sufficient evidence that the new machine packs faster.\")\n"
   ]
  },
  {
   "cell_type": "markdown",
   "metadata": {},
   "source": [
    "With the results of the code, we can say that we fail to reject the null hypothesis, because there is not sufficient evidence that the new machine is packing faster than the old one.\n",
    "\n",
    "Now I will use ttest and p-values:"
   ]
  },
  {
   "cell_type": "code",
   "execution_count": 17,
   "metadata": {},
   "outputs": [
    {
     "name": "stdout",
     "output_type": "stream",
     "text": [
      "Calculated t-statistic: -3.3972307061176026\n",
      "P-value: 0.9983944287496127\n",
      "Fail to reject the null hypothesis. There is not sufficient evidence that the new machine packs faster.\n"
     ]
    }
   ],
   "source": [
    "from scipy.stats import ttest_ind\n",
    "\n",
    "#Creating the data\n",
    "new_machine = np.array([42.1, 41, 41.3, 41.8, 42.4, 42.8, 43.2, 42.3, 41.8, 42.7])\n",
    "old_machine = np.array([42.7, 43.6, 43.8, 43.3, 42.5, 43.5, 43.1, 41.7, 44, 44.1])\n",
    "\n",
    "# Perform the two-sample t-test\n",
    "t_statistic, p_value = ttest_ind(new_machine, old_machine, alternative='greater')\n",
    "\n",
    "# Print the results\n",
    "print(\"Calculated t-statistic:\", t_statistic)\n",
    "print(\"P-value:\", p_value)\n",
    "\n",
    "# Compare p-value with significance level\n",
    "alpha = 0.05\n",
    "if p_value < alpha:\n",
    "    print(\"Reject the null hypothesis. There is sufficient evidence that the new machine packs faster.\")\n",
    "else:\n",
    "    print(\"Fail to reject the null hypothesis. There is not sufficient evidence that the new machine packs faster.\")\n"
   ]
  }
 ],
 "metadata": {
  "kernelspec": {
   "display_name": "base",
   "language": "python",
   "name": "python3"
  },
  "language_info": {
   "codemirror_mode": {
    "name": "ipython",
    "version": 3
   },
   "file_extension": ".py",
   "mimetype": "text/x-python",
   "name": "python",
   "nbconvert_exporter": "python",
   "pygments_lexer": "ipython3",
   "version": "3.11.5"
  }
 },
 "nbformat": 4,
 "nbformat_minor": 2
}
